{
 "cells": [
  {
   "cell_type": "markdown",
   "metadata": {},
   "source": [
    "The maximum sum subarray problem consists in finding the maximum sum of a contiguous subsequence in an array or list of integers:\n",
    "\n",
    "max_sequence([-2, 1, -3, 4, -1, 2, 1, -5, 4])\n",
    "should be 6: [4, -1, 2, 1]\n",
    "\n",
    "Easy case is when the list is made up of only positive numbers and the maximum sum is the sum of the whole array. If the list is made up of only negative numbers, return 0 instead.\n",
    "\n",
    "Empty list is considered to have zero greatest sum. Note that the empty list or array is also a valid sublist/subarray."
   ]
  },
  {
   "cell_type": "code",
   "execution_count": null,
   "metadata": {},
   "outputs": [],
   "source": [
    "def max_sequence(L):\n",
    "    if all(val < 0 for val in L):\n",
    "        return 0\n",
    "    else:\n",
    "        return max(sum(L[i:j+1]) for i in range(len(L)) for j in range(i,len(L)))"
   ]
  }
 ],
 "metadata": {
  "kernelspec": {
   "display_name": "Python 3.8.12 64-bit ('shims')",
   "language": "python",
   "name": "python3"
  },
  "language_info": {
   "name": "python",
   "version": "3.8.12"
  },
  "orig_nbformat": 4,
  "vscode": {
   "interpreter": {
    "hash": "230626df57fbbe7ab12c5d35183ff86b6fee5751bca107add4c13426cf5a3338"
   }
  }
 },
 "nbformat": 4,
 "nbformat_minor": 2
}
