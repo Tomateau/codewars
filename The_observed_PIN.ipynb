{
 "cells": [
  {
   "attachments": {},
   "cell_type": "markdown",
   "metadata": {},
   "source": [
    "### DESCRIPTION:\n",
    "\n",
    "Alright, detective, one of our colleagues successfully observed our target person, Robby the robber. We followed him to a secret warehouse, where we assume to find all the stolen stuff. The door to this warehouse is secured by an electronic combination lock. Unfortunately our spy isn't sure about the PIN he saw, when Robby entered it.\n",
    "\n",
    "The keypad has the following layout:\n",
    "\n",
    "┌───┬───┬───┐\n",
    "│ 1 │ 2 │ 3 │\n",
    "├───┼───┼───┤\n",
    "│ 4 │ 5 │ 6 │\n",
    "├───┼───┼───┤\n",
    "│ 7 │ 8 │ 9 │\n",
    "└───┼───┼───┘\n",
    "    │ 0 │\n",
    "    └───┘\n",
    "He noted the PIN 1357, but he also said, it is possible that each of the digits he saw could actually be another adjacent digit (horizontally or vertically, but not diagonally). E.g. instead of the 1 it could also be the 2 or 4. And instead of the 5 it could also be the 2, 4, 6 or 8.\n",
    "\n",
    "He also mentioned, he knows this kind of locks. You can enter an unlimited amount of wrong PINs, they never finally lock the system or sound the alarm. That's why we can try out all possible (*) variations.\n",
    "\n",
    "* possible in sense of: the observed PIN itself and all variations considering the adjacent digits\n",
    "\n",
    "Can you help us to find all those variations? It would be nice to have a function, that returns an array (or a list in Java/Kotlin and C#) of all variations for an observed PIN with a length of 1 to 8 digits. We could name the function getPINs (get_pins in python, GetPINs in C#). But please note that all PINs, the observed one and also the results, must be strings, because of potentially leading '0's. We already prepared some test cases for you.\n",
    "\n",
    "Detective, we are counting on you!"
   ]
  },
  {
   "cell_type": "code",
   "execution_count": null,
   "metadata": {},
   "outputs": [],
   "source": [
    "import itertools\n",
    "def get_pins(observed):\n",
    "    lst = []\n",
    "    for digit in observed:\n",
    "        if digit == '1':\n",
    "            lst.append([1,2,4])\n",
    "        elif digit == '2':\n",
    "            lst.append([1,2,3,5])\n",
    "        elif digit == '3':\n",
    "            lst.append([2,3,6])   \n",
    "        elif digit == '4':\n",
    "            lst.append([1,4,5,7])\n",
    "        elif digit == '5':\n",
    "            lst.append([2,4,5,6,8])    \n",
    "        elif digit == '6':\n",
    "            lst.append([3,5,6,9])\n",
    "        elif digit == '7':\n",
    "            lst.append([4,7,8])\n",
    "        elif digit == '8':\n",
    "            lst.append([0,5,7,8,9])\n",
    "        elif digit == '9':\n",
    "            lst.append([6,8,9])\n",
    "        else:\n",
    "            lst.append([0,8])\n",
    "    # print(lst)\n",
    "            \n",
    "    result = list(itertools.product(*lst))\n",
    "    result = [\"\".join(map(str, list)) for list in result]\n",
    "\n",
    "    return result"
   ]
  },
  {
   "cell_type": "code",
   "execution_count": null,
   "metadata": {},
   "outputs": [],
   "source": [
    "from itertools import product\n",
    "\n",
    "ADJACENTS = ('08', '124', '2135', '326', '4157', '52468', '6359', '748', '85790', '968')\n",
    "\n",
    "def get_pins(observed):\n",
    "    return [''.join(p) for p in product(*(ADJACENTS[int(d)] for d in observed))]"
   ]
  },
  {
   "cell_type": "code",
   "execution_count": null,
   "metadata": {},
   "outputs": [],
   "source": [
    "get_pins('896')"
   ]
  }
 ],
 "metadata": {
  "kernelspec": {
   "display_name": "base",
   "language": "python",
   "name": "python3"
  },
  "language_info": {
   "name": "python",
   "version": "3.9.7"
  },
  "orig_nbformat": 4
 },
 "nbformat": 4,
 "nbformat_minor": 2
}
