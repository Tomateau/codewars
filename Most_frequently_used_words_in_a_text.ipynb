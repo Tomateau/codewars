{
 "cells": [
  {
   "cell_type": "markdown",
   "metadata": {},
   "source": [
    "Write a function that, given a string of text (possibly with punctuation and line-breaks), returns an array of the top-3 most occurring words, in descending order of the number of occurrences.\n",
    "\n",
    "Assumptions:\n",
    "\n",
    "A word is a string of letters (A to Z) optionally containing one or more apostrophes (') in ASCII.\n",
    "\n",
    "Apostrophes can appear at the start, middle or end of a word ('abc, abc', 'abc', ab'c are all valid)\n",
    "\n",
    "Any other characters (e.g. #, \\, / , . ...) are not part of a word and should be treated as whitespace.\n",
    "\n",
    "Matches should be case-insensitive, and the words in the result should be lowercased.\n",
    "\n",
    "Ties may be broken arbitrarily.\n",
    "\n",
    "If a text contains fewer than three unique words, then either the top-2 or top-1 words should be returned, or an empty array if a text contains no words."
   ]
  },
  {
   "cell_type": "code",
   "execution_count": 3,
   "metadata": {},
   "outputs": [],
   "source": [
    "text = \"In a village of La Mancha, the name of which I have no desire to call to\\\n",
    "mind, there lived not long since one of those gentlemen that keep a lance\\\n",
    "in the lance-rack, an old buckler, a lean hack, and a greyhound for\\\n",
    "coursing. An olla of rather more beef than mutton, a salad on most\\\n",
    "nights, scraps on Saturdays, lentils on Fridays, and a pigeon or so extra\\\n",
    "on Sundays, made away with three-quarters of his income.\""
   ]
  },
  {
   "cell_type": "code",
   "execution_count": 35,
   "metadata": {},
   "outputs": [],
   "source": [
    "from collections import Counter\n",
    "import re\n",
    "\n",
    "def top_3_words(text):\n",
    "    \n",
    "    text_list = []\n",
    "    \n",
    "    text = re.sub(r'[^\\x00-\\x7f]',r'', text)\n",
    "    \n",
    "    chars = \"\\\\*_{}[]()>#+-.!$,/?:;\"\n",
    "    for c in chars:\n",
    "        text = text.replace(c,\" \")\n",
    "        \n",
    "    text_list = text.replace(\" ' \",\" \").replace(\" ''' \",\" \").lower().split()\n",
    "    \n",
    "    counts = Counter(text_list)\n",
    "    res = counts.most_common(3)\n",
    "    \n",
    "    final_res = []\n",
    "    \n",
    "    for words in res:\n",
    "        final_res.append(words[0])\n",
    "    return final_res"
   ]
  },
  {
   "cell_type": "code",
   "execution_count": 34,
   "metadata": {},
   "outputs": [
    {
     "data": {
      "text/plain": [
       "[\"won't\", 'wont']"
      ]
     },
     "execution_count": 34,
     "metadata": {},
     "output_type": "execute_result"
    }
   ],
   "source": [
    "top_3_words(\"  //wont won't won't\")"
   ]
  }
 ],
 "metadata": {
  "kernelspec": {
   "display_name": "Python 3.8.12 64-bit ('lewagon')",
   "language": "python",
   "name": "python3"
  },
  "language_info": {
   "codemirror_mode": {
    "name": "ipython",
    "version": 3
   },
   "file_extension": ".py",
   "mimetype": "text/x-python",
   "name": "python",
   "nbconvert_exporter": "python",
   "pygments_lexer": "ipython3",
   "version": "3.8.12"
  },
  "orig_nbformat": 4,
  "vscode": {
   "interpreter": {
    "hash": "bfe724de338cc394b3ff86c930bac7ee7a5cf9b55f5ca5aa3cc86a5cb0272498"
   }
  }
 },
 "nbformat": 4,
 "nbformat_minor": 2
}
