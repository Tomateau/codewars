{
 "cells": [
  {
   "cell_type": "markdown",
   "metadata": {},
   "source": [
    "### DESCRIPTION:\n",
    "This time we want to write calculations using functions and get the results. Let's have a look at some examples:\n",
    "\n",
    "seven(times(five())) # must return 35<br />\n",
    "four(plus(nine())) # must return 13<br />\n",
    "eight(minus(three())) # must return 5<br />\n",
    "six(divided_by(two())) # must return 3<br />\n",
    "\n",
    "### Requirements:\n",
    "\n",
    "There must be a function for each number from 0 (\"zero\") to 9 (\"nine\")\n",
    "There must be a function for each of the following mathematical operations: plus, minus, times, divided_by\n",
    "Each calculation consist of exactly one operation and two numbers\n",
    "The most outer function represents the left operand, the most inner function represents the right operand\n",
    "Division should be integer division. For example, this should return 2, not 2.666666...:"
   ]
  },
  {
   "cell_type": "code",
   "execution_count": 38,
   "metadata": {},
   "outputs": [],
   "source": [
    "from operator import add, sub, mul, floordiv\n",
    "\n",
    "operations = {\n",
    "    \"+\": add,\n",
    "    \"-\": sub,\n",
    "    \"*\": mul,\n",
    "    \"/\": floordiv\n",
    "}\n",
    "def zero(a=0):\n",
    "    if a != 0:\n",
    "        operation = operations[a[0]]\n",
    "        result = operation(0,a[1])\n",
    "        return result\n",
    "    else:\n",
    "        return a   \n",
    "def one(a=1):\n",
    "    if a != 1:\n",
    "        operation = operations[a[0]]\n",
    "        result = operation(1,a[1])\n",
    "        return result\n",
    "    else:\n",
    "        return a\n",
    "def two(a=2):\n",
    "    if a != 2:\n",
    "        operation = operations[a[0]]\n",
    "        result = operation(2,a[1])\n",
    "        return result\n",
    "    else:\n",
    "        return a\n",
    "def three(a=3):\n",
    "    if a != 3:\n",
    "        operation = operations[a[0]]\n",
    "        result = operation(3,a[1])\n",
    "        return result\n",
    "    else:\n",
    "        return a\n",
    "def four(a=4):\n",
    "    if a != 4:\n",
    "        operation = operations[a[0]]\n",
    "        result = operation(4,a[1])\n",
    "        return result\n",
    "    else:\n",
    "        return a\n",
    "def five(a=5):\n",
    "    if a != 5:\n",
    "        operation = operations[a[0]]\n",
    "        result = operation(5,a[1])\n",
    "        return result\n",
    "    else:\n",
    "        return a\n",
    "def six(a=6):\n",
    "    if a != 6:\n",
    "        operation = operations[a[0]]\n",
    "        result = operation(6,a[1])\n",
    "        return result\n",
    "    else:\n",
    "        return a\n",
    "def seven(a=7):\n",
    "    if a != 7:\n",
    "        operation = operations[a[0]]\n",
    "        result = operation(7,a[1])\n",
    "        return result\n",
    "    else:\n",
    "        return a\n",
    "def eight(a=8):\n",
    "    if a != 8:\n",
    "        operation = operations[a[0]]\n",
    "        result = operation(8,a[1])\n",
    "        return result\n",
    "    else:\n",
    "        return a\n",
    "def nine(a=9):\n",
    "    if a != 9:\n",
    "        operation = operations[a[0]]\n",
    "        result = operation(9,a[1])\n",
    "        return result\n",
    "    else:\n",
    "        return a\n",
    "def plus(n): return ['+',n]\n",
    "def minus(n): return ['-',n]\n",
    "def times(n): return ['*',n]\n",
    "def divided_by(n): return ['/',n]     "
   ]
  },
  {
   "cell_type": "code",
   "execution_count": 39,
   "metadata": {},
   "outputs": [
    {
     "data": {
      "text/plain": [
       "1"
      ]
     },
     "execution_count": 39,
     "metadata": {},
     "output_type": "execute_result"
    }
   ],
   "source": [
    "six(divided_by(four()))"
   ]
  }
 ],
 "metadata": {
  "kernelspec": {
   "display_name": "Python 3.8.12 64-bit ('shims')",
   "language": "python",
   "name": "python3"
  },
  "language_info": {
   "codemirror_mode": {
    "name": "ipython",
    "version": 3
   },
   "file_extension": ".py",
   "mimetype": "text/x-python",
   "name": "python",
   "nbconvert_exporter": "python",
   "pygments_lexer": "ipython3",
   "version": "3.8.12"
  },
  "orig_nbformat": 4,
  "vscode": {
   "interpreter": {
    "hash": "230626df57fbbe7ab12c5d35183ff86b6fee5751bca107add4c13426cf5a3338"
   }
  }
 },
 "nbformat": 4,
 "nbformat_minor": 2
}
