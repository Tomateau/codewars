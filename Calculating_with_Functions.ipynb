{
 "cells": [
  {
   "cell_type": "code",
   "execution_count": 25,
   "metadata": {},
   "outputs": [],
   "source": [
    "from operator import add, sub, mul, floordiv\n",
    "\n",
    "operations = {\n",
    "    \"+\": add,\n",
    "    \"-\": sub,\n",
    "    \"*\": mul,\n",
    "    \"/\": floordiv\n",
    "}\n",
    "def zero(a=0):\n",
    "    if a != 0:\n",
    "        operation = operations[a[0]]\n",
    "        result = operation(0,a[1])\n",
    "        return result\n",
    "    else:\n",
    "        return a   \n",
    "def one(a=1):\n",
    "    if a != 1:\n",
    "        operation = operations[a[0]]\n",
    "        result = operation(1,a[1])\n",
    "        return result\n",
    "    else:\n",
    "        return a\n",
    "def two(a=2):\n",
    "    if a != 1:\n",
    "        operation = operations[a[0]]\n",
    "        result = operation(2,a[1])\n",
    "        return result\n",
    "    else:\n",
    "        return a\n",
    "def three(a=3):\n",
    "    if a != 1:\n",
    "        operation = operations[a[0]]\n",
    "        result = operation(3,a[1])\n",
    "        return result\n",
    "    else:\n",
    "        return a\n",
    "def four(a=4):\n",
    "    if a != 1:\n",
    "        operation = operations[a[0]]\n",
    "        result = operation(4,a[1])\n",
    "        return result\n",
    "    else:\n",
    "        return a\n",
    "def five(a=5):\n",
    "    if a != 1:\n",
    "        operation = operations[a[0]]\n",
    "        result = operation(5,a[1])\n",
    "        return result\n",
    "    else:\n",
    "        return a\n",
    "def six(a=6):\n",
    "    if a != 1:\n",
    "        operation = operations[a[0]]\n",
    "        result = operation(6,a[1])\n",
    "        return result\n",
    "    else:\n",
    "        return a\n",
    "def seven(a=7):\n",
    "    if a != 1:\n",
    "        operation = operations[a[0]]\n",
    "        result = operation(7,a[1])\n",
    "        return result\n",
    "    else:\n",
    "        return a\n",
    "def eight(a=8):\n",
    "    if a != 1:\n",
    "        operation = operations[a[0]]\n",
    "        result = operation(8,a[1])\n",
    "        return result\n",
    "    else:\n",
    "        return a\n",
    "def nine(a=9):\n",
    "    if a != 1:\n",
    "        operation = operations[a[0]]\n",
    "        result = operation(9,a[1])\n",
    "        return result\n",
    "    else:\n",
    "        return a\n",
    "def plus(n): return ['+',n]\n",
    "def minus(n): return ['-',n]\n",
    "def times(n): return ['*',n]\n",
    "def divided_by(n): return ['/',n]     "
   ]
  },
  {
   "cell_type": "code",
   "execution_count": 26,
   "metadata": {},
   "outputs": [
    {
     "data": {
      "text/plain": [
       "-1"
      ]
     },
     "execution_count": 26,
     "metadata": {},
     "output_type": "execute_result"
    }
   ],
   "source": [
    "zero(minus(one()))"
   ]
  },
  {
   "cell_type": "code",
   "execution_count": null,
   "metadata": {},
   "outputs": [],
   "source": []
  }
 ],
 "metadata": {
  "kernelspec": {
   "display_name": "Python 3.8.12 64-bit ('lewagon')",
   "language": "python",
   "name": "python3"
  },
  "language_info": {
   "codemirror_mode": {
    "name": "ipython",
    "version": 3
   },
   "file_extension": ".py",
   "mimetype": "text/x-python",
   "name": "python",
   "nbconvert_exporter": "python",
   "pygments_lexer": "ipython3",
   "version": "3.8.12"
  },
  "orig_nbformat": 4,
  "vscode": {
   "interpreter": {
    "hash": "bfe724de338cc394b3ff86c930bac7ee7a5cf9b55f5ca5aa3cc86a5cb0272498"
   }
  }
 },
 "nbformat": 4,
 "nbformat_minor": 2
}
