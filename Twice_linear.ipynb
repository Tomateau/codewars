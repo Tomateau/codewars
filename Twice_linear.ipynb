{
 "cells": [
  {
   "attachments": {},
   "cell_type": "markdown",
   "metadata": {},
   "source": [
    "### DESCRIPTION\n",
    "\n",
    "Consider a sequence u where u is defined as follows:\n",
    "\n",
    "The number u(0) = 1 is the first one in u.<br />\n",
    "For each x in u, then y = 2 * x + 1 and z = 3 * x + 1 must be in u too.<br />\n",
    "There are no other numbers in u.<br /><br />\n",
    "Ex: u = [1, 3, 4, 7, 9, 10, 13, 15, 19, 21, 22, 27, ...]<br />\n",
    "\n",
    "1 gives 3 and 4, then 3 gives 7 and 10, 4 gives 9 and 13, then 7 gives 15 and 22 and so on...\n",
    "\n",
    "Task:<br />\n",
    "Given parameter n the function dbl_linear (or dblLinear...) returns the element u(n) of the ordered (with <) sequence u (so, there are no duplicates).\n",
    "\n",
    "Example:<br />\n",
    "dbl_linear(10) should return 22\n",
    "\n",
    "Note:<br />\n",
    "Focus attention on efficiency"
   ]
  },
  {
   "cell_type": "code",
   "execution_count": 62,
   "metadata": {},
   "outputs": [],
   "source": [
    "def dbl_linear(n):\n",
    "    u = [1]\n",
    "    a = 0\n",
    "    x = u[a]\n",
    "    s = 1\n",
    "    while len(u) < (n+(s/3.15)):\n",
    "        y = (2*x)+1\n",
    "        z = (3*x)+1\n",
    "        u.extend((y,z))\n",
    "        u = sorted(set(u))\n",
    "        x = u[a+1]\n",
    "        a = a+1\n",
    "        s += 1\n",
    "    print (len(u))\n",
    "    print (u[n])"
   ]
  },
  {
   "cell_type": "code",
   "execution_count": 63,
   "metadata": {},
   "outputs": [
    {
     "name": "stdout",
     "output_type": "stream",
     "text": [
      "13\n",
      "22\n"
     ]
    }
   ],
   "source": [
    "dbl_linear(10)"
   ]
  },
  {
   "cell_type": "code",
   "execution_count": null,
   "metadata": {},
   "outputs": [],
   "source": [
    "from collections import deque\n",
    "\n",
    "def dbl_linear(n):\n",
    "    h = 1; cnt = 0; q2, q3 = deque([]), deque([])\n",
    "    while True:\n",
    "        if (cnt >= n):\n",
    "            return h\n",
    "        q2.append(2 * h + 1)\n",
    "        q3.append(3 * h + 1)\n",
    "        h = min(q2[0], q3[0])\n",
    "        if h == q2[0]: h = q2.popleft()\n",
    "        if h == q3[0]: h = q3.popleft()\n",
    "        cnt += 1"
   ]
  },
  {
   "cell_type": "code",
   "execution_count": null,
   "metadata": {},
   "outputs": [],
   "source": [
    "def dbl_linear(n):\n",
    "  num_list = [1]\n",
    "  for i in num_list:\n",
    "    num_list.append((i * 2) + 1)\n",
    "    num_list.append((i * 3) + 1)\n",
    "    if len(num_list) > n *10:\n",
    "      break\n",
    "  return sorted(list(set(num_list)))[n]"
   ]
  },
  {
   "cell_type": "code",
   "execution_count": null,
   "metadata": {},
   "outputs": [],
   "source": [
    "def dbl_linear(n):\n",
    "    u = [1]\n",
    "    i = 0\n",
    "    j = 0\n",
    "    while len(u) <= n:\n",
    "        x = 2 * u[i] + 1\n",
    "        y = 3 * u[j] + 1\n",
    "        if x <= y:\n",
    "            i += 1\n",
    "        if x >= y:\n",
    "            j += 1\n",
    "        u.append(min(x,y))\n",
    "    return u[n]"
   ]
  }
 ],
 "metadata": {
  "kernelspec": {
   "display_name": "base",
   "language": "python",
   "name": "python3"
  },
  "language_info": {
   "codemirror_mode": {
    "name": "ipython",
    "version": 3
   },
   "file_extension": ".py",
   "mimetype": "text/x-python",
   "name": "python",
   "nbconvert_exporter": "python",
   "pygments_lexer": "ipython3",
   "version": "3.9.7"
  },
  "orig_nbformat": 4
 },
 "nbformat": 4,
 "nbformat_minor": 2
}
