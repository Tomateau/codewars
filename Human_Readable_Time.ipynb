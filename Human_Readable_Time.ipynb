{
 "cells": [
  {
   "cell_type": "markdown",
   "metadata": {},
   "source": [
    "### DESCRIPTION:\n",
    "Write a function, which takes a non-negative integer (seconds) as input and returns the time in a human-readable format (HH:MM:SS)\n",
    "\n",
    "HH = hours, padded to 2 digits, range: 00 - 99\n",
    "\n",
    "MM = minutes, padded to 2 digits, range: 00 - 59\n",
    "\n",
    "SS = seconds, padded to 2 digits, range: 00 - 59\n",
    "\n",
    "The maximum time never exceeds 359999 (99:59:59)\n",
    "\n",
    "You can find some examples in the test fixtures."
   ]
  },
  {
   "cell_type": "code",
   "execution_count": 17,
   "metadata": {},
   "outputs": [],
   "source": [
    "def make_readable(seconds):\n",
    "    h = seconds // 3600\n",
    "    tm = seconds % 3600\n",
    "    m = tm // 60\n",
    "    s = tm % 60\n",
    "    h = str(h)\n",
    "    m = str(m)\n",
    "    s = str(s)\n",
    "    if len(h) < 2:\n",
    "        h = '0'+h\n",
    "    if len(m) < 2:\n",
    "        m = '0'+m\n",
    "    if len(s) < 2:\n",
    "        s = '0'+s\n",
    "    return f'{h}:{m}:{s}' "
   ]
  },
  {
   "cell_type": "code",
   "execution_count": 18,
   "metadata": {},
   "outputs": [
    {
     "data": {
      "text/plain": [
       "'00:00:30'"
      ]
     },
     "execution_count": 18,
     "metadata": {},
     "output_type": "execute_result"
    }
   ],
   "source": [
    "make_readable(30)"
   ]
  }
 ],
 "metadata": {
  "kernelspec": {
   "display_name": "Python 3.8.12 64-bit ('shims')",
   "language": "python",
   "name": "python3"
  },
  "language_info": {
   "codemirror_mode": {
    "name": "ipython",
    "version": 3
   },
   "file_extension": ".py",
   "mimetype": "text/x-python",
   "name": "python",
   "nbconvert_exporter": "python",
   "pygments_lexer": "ipython3",
   "version": "3.8.12"
  },
  "orig_nbformat": 4,
  "vscode": {
   "interpreter": {
    "hash": "230626df57fbbe7ab12c5d35183ff86b6fee5751bca107add4c13426cf5a3338"
   }
  }
 },
 "nbformat": 4,
 "nbformat_minor": 2
}
