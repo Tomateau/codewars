{
 "cells": [
  {
   "cell_type": "markdown",
   "metadata": {},
   "source": [
    "### Snail Sort\n",
    "Given an n x n array, return the array elements arranged from outermost elements to the middle element, traveling clockwise.\n",
    "\n",
    "array = [[1,2,3],<br />\n",
    "         [4,5,6],<br />\n",
    "         [7,8,9]]<br />\n",
    "snail(array) #=> [1,2,3,6,9,8,7,4,5]<br />\n",
    "For better understanding, please follow the numbers of the next array consecutively:<br />\n",
    "\n",
    "array = [[1,2,3],<br />\n",
    "         [8,9,4],<br />\n",
    "         [7,6,5]]<br />\n",
    "snail(array) #=> [1,2,3,4,5,6,7,8,9]<br />\n",
    "\n",
    "NOTE: The idea is not sort the elements from the lowest value to the highest; the idea is to traverse the 2-d array in a clockwise snailshell pattern.\n",
    "\n",
    "NOTE 2: The 0x0 (empty matrix) is represented as en empty array inside an array [[]]."
   ]
  },
  {
   "cell_type": "code",
   "execution_count": 3,
   "metadata": {},
   "outputs": [],
   "source": [
    "matrix = [[ 1,  2,  3,  4,  5],\n",
    "          [12, 13, 14, 15,  6],\n",
    "          [11, 10,  9,  8,  7]]"
   ]
  },
  {
   "cell_type": "code",
   "execution_count": 1,
   "metadata": {},
   "outputs": [],
   "source": [
    "def snail(matrix):\n",
    "    lo_x = lo_y = 0\n",
    "    hi_x = len(matrix[0]) - 1\n",
    "    hi_y = len(matrix) - 1\n",
    "    res = []\n",
    "    while lo_x <= hi_x and lo_y <= hi_y:\n",
    "        for x in range(lo_x, hi_x+1):\n",
    "            res.append(matrix[lo_y][x])\n",
    "        lo_y += 1\n",
    "        for y in range(lo_y, hi_y+1): \n",
    "            res.append(matrix[y][hi_x])\n",
    "        hi_x -= 1\n",
    "        # if not (lo_x <= hi_x and lo_y <= hi_y): break\n",
    "        if  (lo_x <= hi_x and lo_y <= hi_y):\n",
    "            for x in reversed(range(lo_x, hi_x+1)): \n",
    "                res.append(matrix[hi_y][x])\n",
    "            hi_y -= 1\n",
    "            for y in reversed(range(lo_y, hi_y+1)): \n",
    "                res.append(matrix[y][lo_x])\n",
    "            lo_x += 1\n",
    "            \n",
    "    return res"
   ]
  },
  {
   "cell_type": "code",
   "execution_count": 4,
   "metadata": {},
   "outputs": [
    {
     "data": {
      "text/plain": [
       "[1, 2, 3, 4, 5, 6, 7, 8, 9, 10, 11, 12, 13, 14, 15]"
      ]
     },
     "execution_count": 4,
     "metadata": {},
     "output_type": "execute_result"
    }
   ],
   "source": [
    "snail(matrix)"
   ]
  }
 ],
 "metadata": {
  "kernelspec": {
   "display_name": "Python 3.8.12 64-bit ('lewagon')",
   "language": "python",
   "name": "python3"
  },
  "language_info": {
   "codemirror_mode": {
    "name": "ipython",
    "version": 3
   },
   "file_extension": ".py",
   "mimetype": "text/x-python",
   "name": "python",
   "nbconvert_exporter": "python",
   "pygments_lexer": "ipython3",
   "version": "3.8.12"
  },
  "orig_nbformat": 4,
  "vscode": {
   "interpreter": {
    "hash": "bfe724de338cc394b3ff86c930bac7ee7a5cf9b55f5ca5aa3cc86a5cb0272498"
   }
  }
 },
 "nbformat": 4,
 "nbformat_minor": 2
}
