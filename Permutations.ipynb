{
 "cells": [
  {
   "cell_type": "markdown",
   "metadata": {},
   "source": [
    "### DESCRIPTION:\n",
    "\n",
    "In this kata you have to create all permutations of a non empty input string and remove duplicates, if present. This means, you have to shuffle all letters from the input in all possible orders.\n",
    "\n",
    "Examples:\n",
    "\n",
    "* With input 'a'\n",
    "* Your function should return: ['a']\n",
    "* With input 'ab'\n",
    "* Your function should return ['ab', 'ba']\n",
    "* With input 'aabb'\n",
    "* Your function should return ['aabb', 'abab', 'abba', 'baab', 'baba', 'bbaa']\n",
    "\n",
    "The order of the permutations doesn't matter."
   ]
  },
  {
   "cell_type": "code",
   "execution_count": 43,
   "metadata": {},
   "outputs": [],
   "source": [
    "import itertools\n",
    "def permutations(s):\n",
    "    permutations = [\"\".join(x) for x in itertools.permutations(s, len(s))]\n",
    "    permutations = list(dict.fromkeys(permutations))\n",
    "    return permutations"
   ]
  },
  {
   "cell_type": "code",
   "execution_count": 44,
   "metadata": {},
   "outputs": [
    {
     "data": {
      "text/plain": [
       "['aabb', 'abab', 'abba', 'baab', 'baba', 'bbaa']"
      ]
     },
     "execution_count": 44,
     "metadata": {},
     "output_type": "execute_result"
    }
   ],
   "source": [
    "permutations('aabb')"
   ]
  }
 ],
 "metadata": {
  "kernelspec": {
   "display_name": "Python 3.8.12 64-bit ('shims')",
   "language": "python",
   "name": "python3"
  },
  "language_info": {
   "codemirror_mode": {
    "name": "ipython",
    "version": 3
   },
   "file_extension": ".py",
   "mimetype": "text/x-python",
   "name": "python",
   "nbconvert_exporter": "python",
   "pygments_lexer": "ipython3",
   "version": "3.8.12"
  },
  "orig_nbformat": 4,
  "vscode": {
   "interpreter": {
    "hash": "230626df57fbbe7ab12c5d35183ff86b6fee5751bca107add4c13426cf5a3338"
   }
  }
 },
 "nbformat": 4,
 "nbformat_minor": 2
}
