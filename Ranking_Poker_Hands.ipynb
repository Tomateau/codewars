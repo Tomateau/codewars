{
 "cells": [
  {
   "attachments": {},
   "cell_type": "markdown",
   "metadata": {},
   "source": [
    "### DESCRIPTION\n",
    "\n",
    "A famous casino is suddenly faced with a sharp decline of their revenues. They decide to offer Texas hold'em also online. Can you help them by writing an algorithm that can rank poker hands?\n",
    "\n",
    "<strong>Task</strong><br />\n",
    "<br />\n",
    "Create a poker hand that has a method to compare itself to another poker hand:\n",
    "\n",
    "compare_with(self, other_hand)\n",
    "\n",
    "A poker hand has a constructor that accepts a string containing 5 cards:\n",
    "\n",
    "PokerHand(\"KS 2H 5C JD TD\")\n",
    "<br /><br />\n",
    "The characteristics of the string of cards are:\n",
    "\n",
    "Each card consists of two characters, where<br />\n",
    "The first character is the value of the card: 2, 3, 4, 5, 6, 7, 8, 9, T(en), J(ack), Q(ueen), K(ing), A(ce)<br />\n",
    "The second character represents the suit: S(pades), H(earts), D(iamonds), C(lubs)<br />\n",
    "A space is used as card separator between cards<br />\n",
    "The result of your poker hand compare can be one of these 3 options:<br />\n",
    "\n",
    "[ \"Win\", \"Tie\", \"Loss\" ]<br /><br />\n",
    "<strong>Notes</strong><br /><br />\n",
    "Apply the Texas Hold'em rules for ranking the cards.<br />\n",
    "Low aces are valid in this kata.<br />\n",
    "There is no ranking for the suits.<br />"
   ]
  },
  {
   "cell_type": "code",
   "execution_count": null,
   "metadata": {},
   "outputs": [],
   "source": [
    "hand = [\"KS\", \"2H\",\"5C\" \"JD\", \"TD\"]"
   ]
  },
  {
   "cell_type": "code",
   "execution_count": null,
   "metadata": {},
   "outputs": [],
   "source": [
    "from collections import Counter\n",
    "\n",
    "class PokerHand(object):\n",
    "    CARD = \"23456789TJQKA\"\n",
    "    RESULT = [\"Loss\", \"Tie\", \"Win\"]\n",
    "\n",
    "    def __init__(self, hand):\n",
    "        # Store all card values (sorted) by getting every 3rd char in hand, starting at index 0.\n",
    "        values = ''.join(sorted(hand[::3], key=self.CARD.index))\n",
    "        # Get all suits by getting every 3rd char in hand, starting at index 1.\n",
    "        # len() of set() of suits is 1 if they are all the same, otherwise there isn't a flush.\n",
    "        is_flush = len(set(hand[1::3])) == 1\n",
    "        # Because values are sorted, they will match a sub-string of CARD if there is a straight,\n",
    "        # but the special case of the \"wheel\" or \"ace low\" straight needs to be accounted for as well.\n",
    "        is_straight = values in self.CARD or values == \"2345A\"\n",
    "        # Create Counter of values\n",
    "        counts = Counter(values) \n",
    "        # Magic happens and then we are done (just kidding)\n",
    "        '''\n",
    "        Summary is that this stores a tupple that when compared, accurately ranks hands. It's formatted like: \n",
    "        (HAND_SCORE,[(VALUE_COUNT1,VALUE1),(VALUE_COUNT2,VALUE2),...])\n",
    "        \n",
    "        HAND_SCORE iterates through each card in the hand and returns the sum of the count of the value * 2.\n",
    "        This ends up heavily weighting hands with duplicate card values. All HAND_SCOREs for non-flush/straight hands:\n",
    "        High Card: 10 | Pair: 14 | 2 Pair: 18 | 3 of a Kind: 22 | Full House: 26 | 4 of a Kind: 34\n",
    "        \n",
    "        Straights need to beat 3 of a Kind but not Full House, so we have to add (22 - 10 + 1) = 13 to make sure we clear it.\n",
    "        Flushes need to beat straights (so 15 > 13), and be less than Full House (so (15 + 10) < 26).\n",
    "        Four of a Kind is 34, but that's still less than 10 + 13 + 15 = 38, so Straight Flushes always dominate.\n",
    "        \n",
    "        So, how do we break ties when HAND_SCORE == HAND_SCORE?\n",
    "        The second part of the tuple contains a list. That list has tuples containing (VALUE_COUNT1,VALUE1).\n",
    "        The list has 1 item for each unique value in values. The tuples are sorted first by value count and then by actual value.\n",
    "        This acts as a tie-breaker when HAND_SCORE == HAND_SCORE. Because of how this is sorted, it will compare the value of\n",
    "        the 3 identical values in a Full House before the 2 identical values. This elegantly works for all High Card, Pair, etc.\n",
    "        cases that need to be accounted for.\n",
    "        '''\n",
    "        self.score = (2 * sum(counts[card] for card in values)\n",
    "                      + 13 * is_straight + 15 * is_flush,\n",
    "                      sorted((cnt, self.CARD.index(card)) for card, cnt in counts.most_common())[::-1])\n",
    "\n",
    "    def compare_with(self, other):\n",
    "        # Some slight trickery to get the right index value for RESULT while comparing at the same time.\n",
    "        return self.RESULT[(self.score > other.score) - (self.score < other.score) + 1]"
   ]
  },
  {
   "cell_type": "code",
   "execution_count": null,
   "metadata": {},
   "outputs": [],
   "source": [
    "player, opponent = PokerHand(\"KS 2H 5C JD TD\"), PokerHand(\"8S 2H 3C JD TD\")"
   ]
  },
  {
   "cell_type": "code",
   "execution_count": null,
   "metadata": {},
   "outputs": [],
   "source": [
    "player.compare_with(opponent)"
   ]
  },
  {
   "cell_type": "code",
   "execution_count": null,
   "metadata": {},
   "outputs": [],
   "source": [
    "hand = \"2D 2H 3C 2D TD\""
   ]
  },
  {
   "cell_type": "code",
   "execution_count": null,
   "metadata": {},
   "outputs": [],
   "source": [
    "CARD = \"23456789TJQKA\""
   ]
  },
  {
   "cell_type": "code",
   "execution_count": null,
   "metadata": {},
   "outputs": [],
   "source": [
    "values = ''.join(sorted(hand[::3], key=CARD.index))"
   ]
  },
  {
   "cell_type": "code",
   "execution_count": null,
   "metadata": {},
   "outputs": [],
   "source": [
    "values"
   ]
  },
  {
   "cell_type": "code",
   "execution_count": null,
   "metadata": {},
   "outputs": [],
   "source": [
    "from collections import Counter\n",
    "counts = Counter(values)"
   ]
  },
  {
   "cell_type": "code",
   "execution_count": null,
   "metadata": {},
   "outputs": [],
   "source": [
    "counts"
   ]
  },
  {
   "cell_type": "code",
   "execution_count": null,
   "metadata": {},
   "outputs": [],
   "source": [
    "suits = set(hand[1::3])"
   ]
  },
  {
   "cell_type": "code",
   "execution_count": null,
   "metadata": {},
   "outputs": [],
   "source": [
    "suits"
   ]
  }
 ],
 "metadata": {
  "kernelspec": {
   "display_name": "base",
   "language": "python",
   "name": "python3"
  },
  "language_info": {
   "name": "python",
   "version": "3.9.7"
  },
  "orig_nbformat": 4
 },
 "nbformat": 4,
 "nbformat_minor": 2
}
